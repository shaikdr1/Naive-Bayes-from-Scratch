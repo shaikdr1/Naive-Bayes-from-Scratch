{
 "cells": [
  {
   "cell_type": "markdown",
   "id": "ab642b56",
   "metadata": {
    "id": "ab642b56"
   },
   "source": [
    "Insalling the required libraries and importing"
   ]
  },
  {
   "cell_type": "code",
   "execution_count": 55,
   "id": "f116b776",
   "metadata": {
    "colab": {
     "base_uri": "https://localhost:8080/"
    },
    "id": "f116b776",
    "outputId": "fb472ebd-7ede-482e-ac89-ae3994acc494"
   },
   "outputs": [
    {
     "name": "stdout",
     "output_type": "stream",
     "text": [
      "Requirement already satisfied: pandas in c:\\users\\davood-pc\\appdata\\local\\programs\\python\\python311\\lib\\site-packages (1.5.3)\n",
      "Requirement already satisfied: python-dateutil>=2.8.1 in c:\\users\\davood-pc\\appdata\\local\\programs\\python\\python311\\lib\\site-packages (from pandas) (2.8.2)\n",
      "Requirement already satisfied: pytz>=2020.1 in c:\\users\\davood-pc\\appdata\\local\\programs\\python\\python311\\lib\\site-packages (from pandas) (2022.7.1)\n",
      "Requirement already satisfied: numpy>=1.21.0 in c:\\users\\davood-pc\\appdata\\local\\programs\\python\\python311\\lib\\site-packages (from pandas) (1.24.2)\n",
      "Requirement already satisfied: six>=1.5 in c:\\users\\davood-pc\\appdata\\local\\programs\\python\\python311\\lib\\site-packages (from python-dateutil>=2.8.1->pandas) (1.16.0)\n"
     ]
    },
    {
     "name": "stderr",
     "output_type": "stream",
     "text": [
      "\n",
      "[notice] A new release of pip available: 22.3.1 -> 23.0.1\n",
      "[notice] To update, run: python.exe -m pip install --upgrade pip\n"
     ]
    },
    {
     "name": "stdout",
     "output_type": "stream",
     "text": [
      "Requirement already satisfied: matplotlib in c:\\users\\davood-pc\\appdata\\local\\programs\\python\\python311\\lib\\site-packages (3.7.0)\n",
      "Requirement already satisfied: contourpy>=1.0.1 in c:\\users\\davood-pc\\appdata\\local\\programs\\python\\python311\\lib\\site-packages (from matplotlib) (1.0.7)\n",
      "Requirement already satisfied: cycler>=0.10 in c:\\users\\davood-pc\\appdata\\local\\programs\\python\\python311\\lib\\site-packages (from matplotlib) (0.11.0)\n",
      "Requirement already satisfied: fonttools>=4.22.0 in c:\\users\\davood-pc\\appdata\\local\\programs\\python\\python311\\lib\\site-packages (from matplotlib) (4.38.0)\n",
      "Requirement already satisfied: kiwisolver>=1.0.1 in c:\\users\\davood-pc\\appdata\\local\\programs\\python\\python311\\lib\\site-packages (from matplotlib) (1.4.4)\n",
      "Requirement already satisfied: numpy>=1.20 in c:\\users\\davood-pc\\appdata\\local\\programs\\python\\python311\\lib\\site-packages (from matplotlib) (1.24.2)\n",
      "Requirement already satisfied: packaging>=20.0 in c:\\users\\davood-pc\\appdata\\local\\programs\\python\\python311\\lib\\site-packages (from matplotlib) (23.0)\n",
      "Requirement already satisfied: pillow>=6.2.0 in c:\\users\\davood-pc\\appdata\\local\\programs\\python\\python311\\lib\\site-packages (from matplotlib) (9.4.0)\n",
      "Requirement already satisfied: pyparsing>=2.3.1 in c:\\users\\davood-pc\\appdata\\local\\programs\\python\\python311\\lib\\site-packages (from matplotlib) (3.0.9)\n",
      "Requirement already satisfied: python-dateutil>=2.7 in c:\\users\\davood-pc\\appdata\\local\\programs\\python\\python311\\lib\\site-packages (from matplotlib) (2.8.2)\n",
      "Requirement already satisfied: six>=1.5 in c:\\users\\davood-pc\\appdata\\local\\programs\\python\\python311\\lib\\site-packages (from python-dateutil>=2.7->matplotlib) (1.16.0)\n"
     ]
    },
    {
     "name": "stderr",
     "output_type": "stream",
     "text": [
      "\n",
      "[notice] A new release of pip available: 22.3.1 -> 23.0.1\n",
      "[notice] To update, run: python.exe -m pip install --upgrade pip\n"
     ]
    },
    {
     "name": "stdout",
     "output_type": "stream",
     "text": [
      "Requirement already satisfied: scipy in c:\\users\\davood-pc\\appdata\\local\\programs\\python\\python311\\lib\\site-packages (1.10.1)\n",
      "Requirement already satisfied: numpy<1.27.0,>=1.19.5 in c:\\users\\davood-pc\\appdata\\local\\programs\\python\\python311\\lib\\site-packages (from scipy) (1.24.2)\n"
     ]
    },
    {
     "name": "stderr",
     "output_type": "stream",
     "text": [
      "\n",
      "[notice] A new release of pip available: 22.3.1 -> 23.0.1\n",
      "[notice] To update, run: python.exe -m pip install --upgrade pip\n"
     ]
    }
   ],
   "source": [
    "!pip install pandas\n",
    "!pip install matplotlib\n",
    "!pip install scipy"
   ]
  },
  {
   "cell_type": "code",
   "execution_count": 56,
   "id": "32c4e8e9",
   "metadata": {
    "id": "32c4e8e9"
   },
   "outputs": [],
   "source": [
    "from math import pi, sqrt, exp\n",
    "from random import randrange, seed\n",
    "from math import log\n",
    "import pandas as pd\n",
    "import matplotlib.pyplot as plt\n",
    "import scipy.stats "
   ]
  },
  {
   "cell_type": "markdown",
   "id": "95c98f37",
   "metadata": {
    "id": "95c98f37"
   },
   "source": [
    "Importing the datasets"
   ]
  },
  {
   "cell_type": "code",
   "execution_count": 57,
   "id": "066dd2dd",
   "metadata": {
    "id": "066dd2dd"
   },
   "outputs": [],
   "source": [
    "\n",
    "# Function to load the dataset\n",
    "dataset1_name = \"Hayes-Roth Data Set\"\n",
    "dataset2_name = \"Car Evaluation Data Set\"\n",
    "dataset3_name = \"Breast Cancer Data Set\"\n",
    "\n",
    "column_name1 = ('Name', 'Hobby', 'Age', 'Educational level', 'Marital status', 'Class')\n",
    "column_name2 = ('Buying', 'Maintenance', 'Doors', 'Persons', 'Lug_boot', 'Safety', 'Class')\n",
    "column_name3 = ('Class', 'Age', 'Menopause', 'Tumor_size', 'Inv_nodes', 'Node_caps', 'Deg_malig', 'Breast', 'Breast_quad', 'Irradiat')\n",
    "column_name4 =['Age', 'Menopause', 'Tumor_size', 'Inv_nodes', 'Node_caps', 'Deg_malig', 'Breast', 'Breast_quad', 'Irradiat', 'Class']\n",
    "\n",
    "hayes_roth_dataset_link = 'https://archive.ics.uci.edu/ml/machine-learning-databases/hayes-roth/hayes-roth.data'\n",
    "car_eval_dataset_link = 'https://archive.ics.uci.edu/ml/machine-learning-databases/car/car.data'\n",
    "breast_cancer_dataset_link = 'https://archive.ics.uci.edu/ml/machine-learning-databases/breast-cancer/breast-cancer.data'\n",
    "def load_dataset(dataset_url, column_name):\n",
    "  if (dataset_url == breast_cancer_dataset_link):\n",
    "    dataset_import = pd.read_csv(dataset_url, names=column_name)\n",
    "    dataset_import_new = dataset_import[column_name4]\n",
    "    dataset_import_new1 = dataset_import_new[dataset_import_new.Breast_quad != \"?\"]\n",
    "    dataset_import_new2 = dataset_import_new1[dataset_import_new1.Node_caps != \"?\"]\n",
    "    return dataset_import_new2\n",
    "  else:\n",
    "    dataset_import = pd.read_csv(dataset_url, names=column_name)\n",
    "    return dataset_import"
   ]
  },
  {
   "cell_type": "markdown",
   "id": "bbd2a9c7",
   "metadata": {
    "id": "bbd2a9c7"
   },
   "source": [
    "Feature Engineering"
   ]
  },
  {
   "cell_type": "code",
   "execution_count": 58,
   "id": "ef653e7d",
   "metadata": {
    "id": "ef653e7d"
   },
   "outputs": [],
   "source": [
    "#for car evaluation dataset\n",
    "#Converting strings to integers\n",
    "car_column_names = [\"Buying\", \"Maintenance\", \"Doors\", \"Persons\", \"Lug_boot\", \"Safety\", \"Class\"]\n",
    "car_evaluation_dataset=load_dataset(car_eval_dataset_link, column_name2)[car_column_names]\n",
    "\n",
    "# Assigning the values to car evaluation dataset using a dictionary\n",
    "buying = dict([('low', 0), ('med', 1), ('high', 2), ('vhigh', 3)])\n",
    "maint = dict([('low', 0), ('med', 1), ('high', 2), ('vhigh', 3)])\n",
    "doors = dict([('2', 0), ('3', 1), ('4', 2), ('5more', 3)])\n",
    "persons = dict([('2', 0), ('4', 1), ('more', 2)])\n",
    "lug_boot = dict([('small', 0), ('med', 1), ('big', 2)])\n",
    "safety = dict([('low', 0), ('med', 1), ('high', 2)])\n",
    "class_dict = dict([('unacc', 0), ('acc', 1), ('good', 2),('vgood', 3)])\n",
    "\n",
    "\n",
    "# Mapping the values as per specific columns\n",
    "car_evaluation_dataset.Buying = car_evaluation_dataset.Buying.map(buying)\n",
    "car_evaluation_dataset.Maintenance = car_evaluation_dataset.Maintenance.map(maint)\n",
    "car_evaluation_dataset.Lug_boot=car_evaluation_dataset.Lug_boot.map(lug_boot)\n",
    "car_evaluation_dataset.Safety=car_evaluation_dataset.Safety.map(safety)\n",
    "car_evaluation_dataset.Doors=car_evaluation_dataset.Doors.map(doors)\n",
    "car_evaluation_dataset.Persons=car_evaluation_dataset.Persons.map(persons)\n",
    "car_evaluation_dataset.Class=car_evaluation_dataset.Class.map(class_dict)"
   ]
  },
  {
   "cell_type": "code",
   "execution_count": 59,
   "id": "6f3f99d8",
   "metadata": {
    "id": "6f3f99d8"
   },
   "outputs": [],
   "source": [
    "#for breast cancer dataset\n",
    "#Converting strings to integers\n",
    "\n",
    "age = dict([('10-19', 0), ('20-29', 1), ('30-39', 2), ('40-49', 3), ('50-59', 4), ('60-69', 5), ('70-79', 6), ('80-89', 7), ('90-99', 8)])\n",
    "menopause = dict([('lt40', 0), ('ge40', 1), ('premeno', 2)])\n",
    "tumor = dict([('0-4', 0), ('5-9', 1), ('10-14', 2), ('15-19', 3), ('20-24', 4), ('25-29', 5), ('30-34', 6), ('35-39', 7), ('40-44', 8), ('45-49', 9), ('50-54', 10), ('55-59', 11)])\n",
    "inv = dict([('0-2', 0), ('3-5', 1), ('6-8', 2), ('9-11', 3), ('12-14', 4), ('15-17', 5), ('18-20', 6), ('21-23', 7), ('24-26', 8), ('27-29', 9), ('30-32', 10), ('33-35', 11), ('36-39', 12)])\n",
    "node_caps = dict([('yes', 0), ('no', 1)])\n",
    "deg = dict([(1, 0), (2, 1), (3, 2)])\n",
    "breast = dict([('left', 0), ('right', 1)])\n",
    "breast_quad = dict([('left_up', 0), ('left_low', 1), ('right_up', 2), ('right_low', 3), ('central', 4)])\n",
    "irradiat = dict([('yes', 0), ('no', 1)])\n",
    "class_breast = dict([('no-recurrence-events', 0), ('recurrence-events', 1)])\n",
    "\n",
    "# Assigning the values to car evaluation dataset using a dictionary\n",
    "breast_dataset_values = ['Age', 'Menopause', 'Tumor_size', 'Inv_nodes', 'Node_caps', 'Deg_malig', 'Breast', 'Breast_quad', 'Irradiat', 'Class']\n",
    "breast_dataset=load_dataset(breast_cancer_dataset_link, column_name3)[breast_dataset_values]\n",
    "\n",
    "# Mapping the values as per specific columns\n",
    "breast_dataset.Age = breast_dataset.Age.map(age)\n",
    "breast_dataset.Menopause = breast_dataset.Menopause.map(menopause)\n",
    "breast_dataset.Tumor_size=breast_dataset.Tumor_size.map(tumor)\n",
    "breast_dataset.Inv_nodes=breast_dataset.Inv_nodes.map(inv)\n",
    "breast_dataset.Node_caps=breast_dataset.Node_caps.map(node_caps)\n",
    "breast_dataset.Deg_malig=breast_dataset.Deg_malig.map(deg)\n",
    "breast_dataset.Breast=breast_dataset.Breast.map(breast)\n",
    "breast_dataset.Breast_quad=breast_dataset.Breast_quad.map(breast_quad)\n",
    "breast_dataset.Irradiat=breast_dataset.Irradiat.map(irradiat)\n",
    "breast_dataset.Class=breast_dataset.Class.map(class_breast)"
   ]
  },
  {
   "cell_type": "markdown",
   "id": "952ceb51",
   "metadata": {
    "id": "952ceb51"
   },
   "source": [
    "Class Seperation"
   ]
  },
  {
   "cell_type": "code",
   "execution_count": 60,
   "id": "98facffe",
   "metadata": {
    "id": "98facffe"
   },
   "outputs": [],
   "source": [
    "# Distrubute the dataset as per the class\n",
    "def class_dataset_distribution(data_values):\n",
    "    seperated = {}\n",
    "    for index, value in enumerate(data_values):\n",
    "      if value[-1] not in seperated:\n",
    "          seperated[value[-1]] = []\n",
    "      seperated[value[-1]].append(data_values[index])\n",
    "    return seperated"
   ]
  },
  {
   "cell_type": "markdown",
   "id": "0143f4de",
   "metadata": {
    "id": "0143f4de"
   },
   "source": [
    "Calcutating the Mean"
   ]
  },
  {
   "cell_type": "code",
   "execution_count": 61,
   "id": "5edfd669",
   "metadata": {
    "id": "5edfd669"
   },
   "outputs": [],
   "source": [
    "# Function to calculate mean\n",
    "def find_mean(numbers):\n",
    "    return sum(numbers)/(len(numbers))"
   ]
  },
  {
   "cell_type": "markdown",
   "id": "26299be6",
   "metadata": {
    "id": "26299be6"
   },
   "source": [
    "Calcutating the Standard Deviation"
   ]
  },
  {
   "cell_type": "code",
   "execution_count": 62,
   "id": "e8702d3a",
   "metadata": {
    "id": "e8702d3a"
   },
   "outputs": [],
   "source": [
    "# Function to calculate standard deviation\n",
    "def find_std(numbers):\n",
    "    num_len = len(numbers) - 1\n",
    "    add_val = sum([(num-find_mean(numbers))**2 for num in numbers])\n",
    "    return sqrt(add_val/num_len)"
   ]
  },
  {
   "cell_type": "markdown",
   "id": "8a50cdba",
   "metadata": {
    "id": "8a50cdba"
   },
   "source": [
    "Values having mean, std, len"
   ]
  },
  {
   "cell_type": "code",
   "execution_count": 63,
   "id": "751bf080",
   "metadata": {
    "id": "751bf080"
   },
   "outputs": [],
   "source": [
    "# returns mean, standard deviation and length\n",
    "\n",
    "def data_values(dataset):\n",
    "    data_values = ([*zip(*dataset)])\n",
    "    mean_values =[]\n",
    "    std_values = []\n",
    "    len_values = []\n",
    "    for row in data_values:\n",
    "        mean_values.append(find_mean(row))\n",
    "        std_values.append(find_std(row))\n",
    "        len_values.append(len(dataset))\n",
    "    ret_values = [*zip(mean_values, std_values, len_values)]\n",
    "    # return the final values removing the class details using slicing\n",
    "    ret_values = ret_values[:-1]\n",
    "    return ret_values"
   ]
  },
  {
   "cell_type": "markdown",
   "id": "18bf2b11",
   "metadata": {
    "id": "18bf2b11"
   },
   "source": [
    "Get the Summary of the class with their mean, std, len"
   ]
  },
  {
   "cell_type": "code",
   "execution_count": 64,
   "id": "37c85772",
   "metadata": {
    "id": "37c85772"
   },
   "outputs": [],
   "source": [
    "# Returns mean, standard deviation and length with class in dict\n",
    "def data_values_with_class(dataset):\n",
    "    ret_summary = {}\n",
    "    for value, row in class_dataset_distribution(dataset).items():\n",
    "        ret_summary[value] = data_values(row)\n",
    "    return ret_summary"
   ]
  },
  {
   "cell_type": "markdown",
   "id": "7a01793d",
   "metadata": {
    "id": "7a01793d"
   },
   "source": [
    "Gaussian PDF where standard_deviation is the sigma in the pdf formula"
   ]
  },
  {
   "cell_type": "code",
   "execution_count": 65,
   "id": "9880e8b4",
   "metadata": {
    "id": "9880e8b4"
   },
   "outputs": [],
   "source": [
    "# Gaussian PDF\n",
    "def gaussian_pdf(x, mean, standard_deviation):\n",
    "  if standard_deviation == 0:\n",
    "    return 0\n",
    "  elif x == None:\n",
    "    x = 100\n",
    "    return (1 / sqrt(2 * pi) * standard_deviation) * exp(-((x-mean)**2 / (2 * standard_deviation**2)))\n",
    "  else:\n",
    "    return (1 / sqrt(2 * pi) * standard_deviation) * exp(-((x-mean)**2 / (2 * standard_deviation**2)))"
   ]
  },
  {
   "cell_type": "markdown",
   "id": "00d1035a",
   "metadata": {
    "id": "00d1035a"
   },
   "source": [
    "Class Probability"
   ]
  },
  {
   "cell_type": "code",
   "execution_count": 66,
   "id": "8dafde2b",
   "metadata": {
    "id": "8dafde2b"
   },
   "outputs": [],
   "source": [
    "summary_val_index0 = 0\n",
    "summary_val_index2= 2\n",
    "def probability_of_class(summary_values, every_value, log_of_probability = False):\n",
    "    probabilty_of_each_class = {}\n",
    "    class_total_sum = 0\n",
    "    # Calculate total number of rows\n",
    "    for summary_value in summary_values:\n",
    "        class_total_sum = class_total_sum + summary_values[summary_value][summary_val_index0][summary_val_index2]\n",
    "    for cls, cls_value in summary_values.items():\n",
    "        valuesofclass = (summary_values[cls][summary_val_index0][summary_val_index2])\n",
    "        probability_class = valuesofclass/(class_total_sum)\n",
    "        \n",
    "        for index, val in enumerate(cls_value):       \n",
    "            mean_val = cls_value[index][0]\n",
    "            std_dev_val = cls_value[index][1]\n",
    "            total_count_val = cls_value[index][2]\n",
    "            gaussian_value = gaussian_pdf(every_value[index], mean_val, std_dev_val)\n",
    "            if log_of_probability == False:\n",
    "              probabilty_of_each_class[cls] = probability_class * gaussian_value\n",
    "            else:\n",
    "              probabilty_of_each_class[cls] = log(probability_class) * gaussian_value\n",
    "\n",
    "    return probabilty_of_each_class"
   ]
  },
  {
   "cell_type": "markdown",
   "id": "219adc6d",
   "metadata": {
    "id": "219adc6d"
   },
   "source": [
    "Validationg using K-Fold"
   ]
  },
  {
   "cell_type": "code",
   "execution_count": 67,
   "id": "110d3962",
   "metadata": {
    "id": "110d3962"
   },
   "outputs": [],
   "source": [
    "import math\n",
    "\n",
    "def k_fold_validation(dataset, number_of_folds):\n",
    "    folded_dataset = []\n",
    "    count_of_values_in_each_flod = int(math.ceil(len(dataset))/(number_of_folds))\n",
    "    dataset_copy = list(dataset)\n",
    "    # Looping across folds\n",
    "    for a in range(number_of_folds):\n",
    "        values_in_fold = []\n",
    "        if (len(values_in_fold)) > count_of_values_in_each_flod:\n",
    "            continue\n",
    "        for k in range(0, count_of_values_in_each_flod):\n",
    "            values_in_fold.append(dataset_copy.pop(randrange(len(dataset_copy))))\n",
    "        folded_dataset.append(values_in_fold)\n",
    "    return folded_dataset"
   ]
  },
  {
   "cell_type": "markdown",
   "id": "eda35374",
   "metadata": {
    "id": "eda35374"
   },
   "source": [
    "Prediction"
   ]
  },
  {
   "cell_type": "code",
   "execution_count": 68,
   "id": "c1f17f87",
   "metadata": {
    "id": "c1f17f87"
   },
   "outputs": [],
   "source": [
    "# Function to predict the class for the provided row in every_value\n",
    "def predict_output(summaries_values, every_value, evaluate_log=False):\n",
    "    best_label = 0\n",
    "    best_probability = 0\n",
    "    if evaluate_log == False:\n",
    "      for each_class, each_probability in probability_of_class(summaries_values, every_value).items():\n",
    "        if best_label == -2 and each_probability < best_probability:\n",
    "            continue\n",
    "        elif best_label is None or each_probability > best_probability:\n",
    "            best_probability = each_probability\n",
    "            best_label = each_class\n",
    "    else:\n",
    "      for each_class, each_probability in probability_of_class(summaries_values, every_value, True).items():\n",
    "        if best_label == -2 and each_probability < best_probability:\n",
    "            continue\n",
    "        elif best_label is None or each_probability > best_probability:\n",
    "            best_probability = each_probability\n",
    "            best_label = each_class\n",
    "    return best_label # Returning the best label"
   ]
  },
  {
   "cell_type": "markdown",
   "id": "fee417eb",
   "metadata": {
    "id": "fee417eb"
   },
   "source": [
    "Naive Baye's"
   ]
  },
  {
   "cell_type": "code",
   "execution_count": 69,
   "id": "eafd4f23",
   "metadata": {
    "id": "eafd4f23"
   },
   "outputs": [],
   "source": [
    "# Function for Naive Bayes Algorithm\n",
    "def naive_bayes_algorithm(train_dataset, test_dataset, log_of_predicted = False):\n",
    "    naive_bayes_predicted_values = []\n",
    "    for each_row in test_dataset:\n",
    "      if log_of_predicted == False:\n",
    "        naive_bayes_predicted_values.append(predict_output(data_values_with_class(train_dataset), each_row))\n",
    "      else:\n",
    "        naive_bayes_predicted_values.append(predict_output(data_values_with_class(train_dataset), each_row, True))\n",
    "    return naive_bayes_predicted_values \n",
    "    #returns the predictions values by naive bayes algorithm"
   ]
  },
  {
   "cell_type": "markdown",
   "id": "6fcdaff5",
   "metadata": {
    "id": "6fcdaff5"
   },
   "source": [
    "Accuracy"
   ]
  },
  {
   "cell_type": "code",
   "execution_count": 70,
   "id": "969db482",
   "metadata": {
    "id": "969db482"
   },
   "outputs": [],
   "source": [
    "# Calculate percentage of accuracy\n",
    "def find_accuracy(correct_value, predicted_value):\n",
    "    count_of_correctly_predicted_values = 0\n",
    "    correct_predicted_set = zip(correct_value, predicted_value)\n",
    "    for correct_val, predicted_val in correct_predicted_set:\n",
    "        if correct_val == predicted_val:\n",
    "            count_of_correctly_predicted_values = count_of_correctly_predicted_values + 1\n",
    "    accuracy_percentage = 100 * (count_of_correctly_predicted_values) / (len(correct_value))\n",
    "    return accuracy_percentage    "
   ]
  },
  {
   "cell_type": "markdown",
   "id": "51ff5136",
   "metadata": {
    "id": "51ff5136"
   },
   "source": [
    "Verification using the dataset"
   ]
  },
  {
   "cell_type": "code",
   "execution_count": 71,
   "id": "502f50d4",
   "metadata": {
    "colab": {
     "base_uri": "https://localhost:8080/"
    },
    "id": "502f50d4",
    "outputId": "8d981ad8-8ca2-46ee-9416-525790bd515e"
   },
   "outputs": [
    {
     "name": "stdout",
     "output_type": "stream",
     "text": [
      "Scores: [46.15384615384615, 69.23076923076923, 53.84615384615385, 30.76923076923077, 61.53846153846154, 30.76923076923077, 30.76923076923077, 53.84615384615385, 38.46153846153846, 53.84615384615385]\n",
      "Mean Accuracy: 46.923%\n",
      "Scores: [65.69767441860465, 70.34883720930233, 72.67441860465117, 73.25581395348837, 65.11627906976744, 65.69767441860465, 71.51162790697674, 73.83720930232558, 68.6046511627907, 72.67441860465117]\n",
      "Mean Accuracy: 69.942%\n",
      "Scores: [74.07407407407408, 70.37037037037037, 74.07407407407408, 62.96296296296296, 66.66666666666667, 74.07407407407408, 59.25925925925926, 70.37037037037037, 81.48148148148148, 62.96296296296296]\n",
      "Mean Accuracy: 69.630%\n"
     ]
    }
   ],
   "source": [
    "def verify_naive_bayes(num_of_folds, algorithm, dataset, evaluate_log=False):\n",
    "    k_fold_validation_seperated_folds = k_fold_validation(dataset, num_of_folds)\n",
    "    accuracy_scores = []\n",
    "    for values_in_each_fold in k_fold_validation_seperated_folds:\n",
    "        empty_list = list()\n",
    "        testing_dataset = []\n",
    "        training_dataset = list(k_fold_validation_seperated_folds)\n",
    "        training_dataset.remove(values_in_each_fold)\n",
    "        training_dataset = sum(training_dataset, empty_list)\n",
    "        for each_val_in_fold in values_in_each_fold:\n",
    "            duplicate_row_value = list(each_val_in_fold)\n",
    "            testing_dataset.append(list(each_val_in_fold))\n",
    "            duplicate_row_value[-1+0] = None\n",
    "\n",
    "        predicted_values_of_algorithm = algorithm(training_dataset, testing_dataset, evaluate_log)\n",
    "        correct_values_list = list()\n",
    "        for each_val_in_fold in values_in_each_fold:\n",
    "            correct_values_list.append(each_val_in_fold[-1])\n",
    "        accuracy_scores.append(find_accuracy(correct_values_list, predicted_values_of_algorithm))\n",
    "    return accuracy_scores\n",
    "\n",
    "num_of_folds = 10\n",
    "scores_1 = verify_naive_bayes(num_of_folds, naive_bayes_algorithm, load_dataset(hayes_roth_dataset_link, column_name1).values.tolist()) # To run hayes roath dataset\n",
    "scores_2 = verify_naive_bayes(num_of_folds, naive_bayes_algorithm, car_evaluation_dataset.values.tolist())  # To run Car evaluation dataset\n",
    "scores_3 = verify_naive_bayes(num_of_folds, naive_bayes_algorithm, breast_dataset.values.tolist())  # To run Breast cancer dataset\n",
    "\n",
    "\n",
    "print('Scores: %s' % scores_1)\n",
    "print('Mean Accuracy: %.3f%%' % (sum(scores_1)/float(len(scores_1))))\n",
    "\n",
    "\n",
    "print('Scores: %s' % scores_2)\n",
    "print('Mean Accuracy: %.3f%%' % (sum(scores_2)/float(len(scores_2))))\n",
    "\n",
    "print('Scores: %s' % scores_3)\n",
    "print('Mean Accuracy: %.3f%%' % (sum(scores_3)/float(len(scores_3))))"
   ]
  },
  {
   "cell_type": "markdown",
   "id": "0124f60d",
   "metadata": {
    "id": "0124f60d"
   },
   "source": [
    "Comparision"
   ]
  },
  {
   "cell_type": "code",
   "execution_count": 72,
   "id": "50a4a963",
   "metadata": {
    "colab": {
     "base_uri": "https://localhost:8080/",
     "height": 310
    },
    "id": "50a4a963",
    "outputId": "5969c03c-c187-4f4c-ac01-f0339822fa41"
   },
   "outputs": [
    {
     "data": {
      "image/png": "[encoded data removed]",
      "text/plain": [
       "<Figure size 640x480 with 1 Axes>"
      ]
     },
     "metadata": {},
     "output_type": "display_data"
    }
   ],
   "source": [
    "# Comparison the accuracies\n",
    "scores = (max(scores_1), max(scores_2), max(scores_3))\n",
    "\n",
    "accuracy = [\"Hayes Roth\",\"Car Evaluation\",\"Breast Cancer\\n\"]\n",
    "plt.title(\"Accuracies of all three datasets\\n\")\n",
    "plt.xlabel(\"Accuracy\")\n",
    "plt.ylabel(\"Datasets\")\n",
    "chart = plt.barh(accuracy, scores)\n",
    "chart[0].set_color('b')\n",
    "chart[1].set_color('y')\n",
    "chart[2].set_color('g')"
   ]
  }
 ],
 "metadata": {
  "colab": {
   "provenance": []
  },
  "kernelspec": {
   "display_name": "Python 3 (ipykernel)",
   "language": "python",
   "name": "python3"
  },
  "language_info": {
   "codemirror_mode": {
    "name": "ipython",
    "version": 3
   },
   "file_extension": ".py",
   "mimetype": "text/x-python",
   "name": "python",
   "nbconvert_exporter": "python",
   "pygments_lexer": "ipython3",
   "version": "3.11.2"
  }
 },
 "nbformat": 4,
 "nbformat_minor": 5
}
